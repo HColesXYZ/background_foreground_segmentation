{
 "cells": [
  {
   "cell_type": "code",
   "execution_count": 1,
   "metadata": {},
   "outputs": [],
   "source": [
    "import os\n",
    "import pandas as pd"
   ]
  },
  {
   "cell_type": "code",
   "execution_count": 47,
   "metadata": {},
   "outputs": [],
   "source": [
    "import urllib.request\n"
   ]
  },
  {
   "cell_type": "code",
   "execution_count": 3,
   "metadata": {},
   "outputs": [],
   "source": [
    "workingDir =  '/home/rene/hiveLabels/'"
   ]
  },
  {
   "cell_type": "code",
   "execution_count": 4,
   "metadata": {},
   "outputs": [],
   "source": [
    "file = [f for f in os.listdir() if \".csv\" in f][0] # Load dataset.csv file exported from the hive. This file contains links to the groundtruth images"
   ]
  },
  {
   "cell_type": "code",
   "execution_count": null,
   "metadata": {},
   "outputs": [],
   "source": []
  },
  {
   "cell_type": "markdown",
   "metadata": {},
   "source": [
    "Download images in the following Structure:\n",
    "- folder/\n",
    " - 20235414.1232342/\n",
    "   - img.[jpg/png]\n",
    "   - semseg.png"
   ]
  },
  {
   "cell_type": "code",
   "execution_count": 73,
   "metadata": {},
   "outputs": [
    {
     "name": "stdout",
     "output_type": "stream",
     "text": [
      "downloaded cam0_1582125491.108546\n"
     ]
    }
   ],
   "source": [
    "for i, row in all_data.iterrows():\n",
    "    name_split = row['original_filename'].split(\".\")\n",
    "    file_name = \".\".join(name_split[:-1])\n",
    "    file_type = name_split[-1]\n",
    "    original_link =row['download_url']\n",
    "    os.mkdir(workingDir + file_name )\n",
    "    # img file\n",
    "    urllib.request.urlretrieve(original_link, workingDir + file_name + \"/img.\"+file_type)\n",
    "    # labels file\n",
    "    labels_link = row['status'][2:-2]\n",
    "    urllib.request.urlretrieve(labels_link,  workingDir + file_name + \"/semseg.png\")\n",
    "    print(\"downloaded\", file_name)"
   ]
  }
 ],
 "metadata": {
  "kernelspec": {
   "display_name": "Python 3",
   "language": "python",
   "name": "python3"
  },
  "language_info": {
   "codemirror_mode": {
    "name": "ipython",
    "version": 3
   },
   "file_extension": ".py",
   "mimetype": "text/x-python",
   "name": "python",
   "nbconvert_exporter": "python",
   "pygments_lexer": "ipython3",
   "version": "3.6.9"
  }
 },
 "nbformat": 4,
 "nbformat_minor": 4
}
